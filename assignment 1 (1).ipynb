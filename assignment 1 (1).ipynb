{
 "cells": [
  {
   "cell_type": "code",
   "execution_count": 1,
   "id": "569dc79e-5320-4399-9c30-d4ddf4fe696b",
   "metadata": {},
   "outputs": [
    {
     "name": "stdin",
     "output_type": "stream",
     "text": [
      "enter no 1 :- 34\n",
      "enter no 2 :- 56\n"
     ]
    },
    {
     "name": "stdout",
     "output_type": "stream",
     "text": [
      "Addition :- 90\n",
      "Subtraction :- -22\n",
      "Multiplication :- 1904\n",
      "Division :- 0.6071428571428571\n",
      "Modulus :- 34\n",
      "Exponentation :- 57918773205287127842044254126179599852840968492056164062843692360166371779746690236416\n",
      "Floor Division :- 0\n"
     ]
    }
   ],
   "source": [
    "a=int(input(\"enter no 1 :-\"))\n",
    "b=int(input(\"enter no 2 :-\"))\n",
    "print(\"Addition :-\",a+b)\n",
    "print(\"Subtraction :-\",a-b)\n",
    "print(\"Multiplication :-\",a*b)\n",
    "print(\"Division :-\",a/b)\n",
    "print(\"Modulus :-\",a%b)\n",
    "print(\"Exponentation :-\",a**b)\n",
    "print(\"Floor Division :-\",a//b)"
   ]
  },
  {
   "cell_type": "code",
   "execution_count": 3,
   "id": "b2b03205-2f56-4588-8954-32e50a76eb24",
   "metadata": {},
   "outputs": [
    {
     "name": "stdin",
     "output_type": "stream",
     "text": [
      "enter a :- 34\n",
      "enter b :- 78\n"
     ]
    },
    {
     "name": "stdout",
     "output_type": "stream",
     "text": [
      "a is smaller than b\n"
     ]
    }
   ],
   "source": [
    "a=int(input(\"enter a :-\"))\n",
    "b=int(input(\"enter b :-\"))\n",
    "if a>b:\n",
    "    print(\"a is greater than b\")\n",
    "elif a<b:\n",
    "    print(\"a is smaller than b\")\n",
    "else:\n",
    "    print(\"both are equal\")"
   ]
  },
  {
   "cell_type": "code",
   "execution_count": 14,
   "id": "a3021fe9-fc34-483d-97a6-813c70db6a55",
   "metadata": {},
   "outputs": [
    {
     "name": "stdin",
     "output_type": "stream",
     "text": [
      "enter a boolean value 1:- true\n",
      "enter a boolean value 2:- false\n",
      "enter a boolean value 3:- true\n"
     ]
    },
    {
     "name": "stdout",
     "output_type": "stream",
     "text": [
      "False\n",
      "True\n",
      "False\n",
      "True\n",
      "False\n"
     ]
    }
   ],
   "source": [
    "a=input(\"enter a boolean value 1:-\").strip().lower()==\"true\"\n",
    "b=input(\"enter a boolean value 2:-\").strip().lower()==\"true\"\n",
    "c=input(\"enter a boolean value 3:-\").strip().lower()==\"true\"\n",
    "print(a and b and c)\n",
    "print(a or b or c)\n",
    "print(not a)\n",
    "print(not b)\n",
    "print(not c)"
   ]
  },
  {
   "cell_type": "code",
   "execution_count": 3,
   "id": "6207ed5c-597a-4d64-a635-ec295c8903e1",
   "metadata": {},
   "outputs": [
    {
     "name": "stdin",
     "output_type": "stream",
     "text": [
      "enter any string athul\n"
     ]
    },
    {
     "name": "stdout",
     "output_type": "stream",
     "text": [
      "5\n",
      "a\n",
      "l\n",
      "luhta\n",
      "ATHUL\n",
      "athul\n"
     ]
    }
   ],
   "source": [
    "a=input(\"enter any string\")\n",
    "print(len(a))\n",
    "print(a[0])\n",
    "print(a[-1])\n",
    "print(a[::-1])\n",
    "print(a.upper())\n",
    "print(a.lower())"
   ]
  },
  {
   "cell_type": "code",
   "execution_count": 18,
   "id": "dcb76673-3f09-40ea-a4d3-29b2b81667b5",
   "metadata": {},
   "outputs": [
    {
     "name": "stdin",
     "output_type": "stream",
     "text": [
      "enter your name athul\n",
      "enter your age 17\n"
     ]
    },
    {
     "name": "stdout",
     "output_type": "stream",
     "text": [
      "hello athul you are 17 years old\n"
     ]
    }
   ],
   "source": [
    "n=input(\"enter your name\")\n",
    "a=int(input(\"enter your age\"))\n",
    "print(\"hello\",n,\"you are\",a,\"years old\")"
   ]
  },
  {
   "cell_type": "code",
   "execution_count": 9,
   "id": "6874bf8d-2c35-4ba8-87ab-df03a99c54b0",
   "metadata": {},
   "outputs": [
    {
     "name": "stdin",
     "output_type": "stream",
     "text": [
      "Enter a sentence: iam good person\n",
      "Enter the word: person\n"
     ]
    },
    {
     "name": "stdout",
     "output_type": "stream",
     "text": [
      "The word person found at 9 index position\n"
     ]
    }
   ],
   "source": [
    "a=input(\"Enter a sentence:\")\n",
    "b=input(\"Enter the word:\") \n",
    "c=a.find(b) \n",
    "if c !=-1: \n",
    "    print(f\"The word {b} found at {c} index position\")\n",
    "else:\n",
    "    print(f\"The {b} word not found\")"
   ]
  },
  {
   "cell_type": "code",
   "execution_count": 13,
   "id": "bc9f1443-e440-4d9b-a9cc-9f9c66cc45d4",
   "metadata": {},
   "outputs": [
    {
     "name": "stdin",
     "output_type": "stream",
     "text": [
      "enter the no1:- 2\n",
      "enter the no2:- 76\n",
      "enter the no3:- 87\n",
      "enter the no4:- 88\n",
      "enter the no5:- 57\n"
     ]
    },
    {
     "name": "stdout",
     "output_type": "stream",
     "text": [
      "310\n",
      "88\n",
      "2\n"
     ]
    }
   ],
   "source": [
    "a=[]\n",
    "for i in range(5):\n",
    "    b=int(input(f\"enter the no{i+1}:-\"))\n",
    "    a.append(b)\n",
    "c=sum(a)\n",
    "d=max(a)\n",
    "e=min(a)\n",
    "print(c)\n",
    "print(d)\n",
    "print(e)"
   ]
  },
  {
   "cell_type": "code",
   "execution_count": 15,
   "id": "d495aec5-8905-4715-b292-e9eaff24dde3",
   "metadata": {},
   "outputs": [
    {
     "name": "stdin",
     "output_type": "stream",
     "text": [
      "enter the fruits name1 mango \n",
      "enter the fruits name2 apple\n",
      "enter the fruits name3 orange\n",
      "enter the fruits name4 grape\n",
      "enter the fruits name5 banana\n"
     ]
    },
    {
     "name": "stdout",
     "output_type": "stream",
     "text": [
      "['mango ', 'orange', 'grape', 'banana', 'jackfruit']\n"
     ]
    }
   ],
   "source": [
    "a=[]\n",
    "for i in range(5):\n",
    "    b=input(f\"enter the fruits name{i+1}\")\n",
    "    a.append(b)\n",
    "a.append('jackfruit')\n",
    "a.pop(1)\n",
    "print(a)"
   ]
  },
  {
   "cell_type": "code",
   "execution_count": 32,
   "id": "296a4a5d-d81c-4833-968d-6298df9e7f46",
   "metadata": {},
   "outputs": [
    {
     "name": "stdin",
     "output_type": "stream",
     "text": [
      "enter the list1 3\n",
      "enter the list2 5\n",
      "enter the list3 6\n",
      "enter the list4 7\n",
      "enter the list5 9\n"
     ]
    },
    {
     "name": "stdout",
     "output_type": "stream",
     "text": [
      "8\n",
      "27\n"
     ]
    }
   ],
   "source": [
    "a=[]\n",
    "for i in range(5):\n",
    "    b=input(f\"enter the list{i+1}\")\n",
    "    a.append(b)\n",
    "a.sort()\n",
    "a.reverse()\n",
    "print(d)\n",
    "print(c)"
   ]
  },
  {
   "cell_type": "code",
   "execution_count": 34,
   "id": "a5d84343-cb51-4644-a3e0-c2e6f16a717f",
   "metadata": {},
   "outputs": [
    {
     "name": "stdout",
     "output_type": "stream",
     "text": [
      "[1, 2, 3, 4, 5]\n",
      "[6, 7, 8, 9, 10]\n",
      "[3, 4, 5, 6, 7, 8]\n"
     ]
    }
   ],
   "source": [
    "nos=[1,2,3,4,5,6,7,8,9,10]\n",
    "print(nos[:5])\n",
    "print(nos[5:])\n",
    "print(nos[2:8])"
   ]
  }
 ],
 "metadata": {
  "kernelspec": {
   "display_name": "Python 3 (ipykernel)",
   "language": "python",
   "name": "python3"
  },
  "language_info": {
   "codemirror_mode": {
    "name": "ipython",
    "version": 3
   },
   "file_extension": ".py",
   "mimetype": "text/x-python",
   "name": "python",
   "nbconvert_exporter": "python",
   "pygments_lexer": "ipython3",
   "version": "3.12.4"
  }
 },
 "nbformat": 4,
 "nbformat_minor": 5
}
